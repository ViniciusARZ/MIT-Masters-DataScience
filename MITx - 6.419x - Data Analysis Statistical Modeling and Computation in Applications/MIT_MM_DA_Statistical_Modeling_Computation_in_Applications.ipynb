{
  "nbformat": 4,
  "nbformat_minor": 0,
  "metadata": {
    "colab": {
      "provenance": [],
      "authorship_tag": "ABX9TyOUtyerMNgyIejy0oLepUOu"
    },
    "kernelspec": {
      "name": "python3",
      "display_name": "Python 3"
    },
    "language_info": {
      "name": "python"
    }
  },
  "cells": [
    {
      "cell_type": "code",
      "source": [
        "!git clone https://gitlab.com/MITx-community/data-science/6.419/report-template-jupyterbook.git reports\n",
        "!cd reports\n",
        "!pip install -r requirements.txt\n",
        "!git submodule update --init --recursive --remote"
      ],
      "metadata": {
        "colab": {
          "base_uri": "https://localhost:8080/"
        },
        "id": "RJ3SbelBfmZc",
        "outputId": "05bfedd9-6446-4691-c969-0a20c6ad4745"
      },
      "execution_count": 3,
      "outputs": [
        {
          "output_type": "stream",
          "name": "stdout",
          "text": [
            "Cloning into 'reports'...\n",
            "remote: Enumerating objects: 149, done.\u001b[K\n",
            "remote: Counting objects: 100% (12/12), done.\u001b[K\n",
            "remote: Compressing objects: 100% (12/12), done.\u001b[K\n",
            "remote: Total 149 (delta 5), reused 0 (delta 0), pack-reused 137\u001b[K\n",
            "Receiving objects: 100% (149/149), 76.81 KiB | 15.36 MiB/s, done.\n",
            "Resolving deltas: 100% (71/71), done.\n",
            "\u001b[31mERROR: Could not open requirements file: [Errno 2] No such file or directory: 'requirements.txt'\u001b[0m\u001b[31m\n",
            "\u001b[0mfatal: not a git repository (or any of the parent directories): .git\n"
          ]
        }
      ]
    }
  ]
}