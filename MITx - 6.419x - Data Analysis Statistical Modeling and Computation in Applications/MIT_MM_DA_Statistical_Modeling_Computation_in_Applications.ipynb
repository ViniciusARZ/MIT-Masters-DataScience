{
  "nbformat": 4,
  "nbformat_minor": 0,
  "metadata": {
    "colab": {
      "provenance": [],
      "authorship_tag": "ABX9TyNLnGY30OKfXY9dir/86t8H"
    },
    "kernelspec": {
      "name": "python3",
      "display_name": "Python 3"
    },
    "language_info": {
      "name": "python"
    }
  },
  "cells": [
    {
      "cell_type": "code",
      "source": [
        "!git clone https://gitlab.com/MITx-community/data-science/6.419/report-template-jupyterbook.git reports\n",
        "!cd reports\n",
        "!pip install -r requirements.txt\n",
        "!git submodule update --init --recursive --remote"
      ],
      "metadata": {
        "colab": {
          "base_uri": "https://localhost:8080/"
        },
        "id": "RJ3SbelBfmZc",
        "outputId": "05bfedd9-6446-4691-c969-0a20c6ad4745"
      },
      "execution_count": null,
      "outputs": [
        {
          "output_type": "stream",
          "name": "stdout",
          "text": [
            "Cloning into 'reports'...\n",
            "remote: Enumerating objects: 149, done.\u001b[K\n",
            "remote: Counting objects: 100% (12/12), done.\u001b[K\n",
            "remote: Compressing objects: 100% (12/12), done.\u001b[K\n",
            "remote: Total 149 (delta 5), reused 0 (delta 0), pack-reused 137\u001b[K\n",
            "Receiving objects: 100% (149/149), 76.81 KiB | 15.36 MiB/s, done.\n",
            "Resolving deltas: 100% (71/71), done.\n",
            "\u001b[31mERROR: Could not open requirements file: [Errno 2] No such file or directory: 'requirements.txt'\u001b[0m\u001b[31m\n",
            "\u001b[0mfatal: not a git repository (or any of the parent directories): .git\n"
          ]
        }
      ]
    },
    {
      "cell_type": "code",
      "source": [
        "import numpy as np\n",
        "import pandas as pd\n",
        "import matplotlib.pyplot as plt\n",
        "%matplotlib inline\n",
        "import seaborn as sns\n",
        "import scipy.stats as ss\n",
        "import scipy.special\n",
        "from scipy.stats import binom"
      ],
      "metadata": {
        "id": "JcUhyaaGtJb1"
      },
      "execution_count": 1,
      "outputs": []
    },
    {
      "cell_type": "markdown",
      "source": [
        "Consider a binomial model where each of 31000\n",
        " individuals has a probability of 0.00203\n",
        " (or 2.03\n",
        " per 1000) of dying due to breast cancer. Use the binomial pmf to calculate the probability that exactly 63\n",
        " of the 31000\n",
        " patients die of breast cancer."
      ],
      "metadata": {
        "id": "7-R5-z5jtJ44"
      }
    },
    {
      "cell_type": "code",
      "source": [
        "scipy.stats.binom.pmf(63, 31000, 0.00203) # k being the 63 patients that will die, n being the population and p being prob"
      ],
      "metadata": {
        "colab": {
          "base_uri": "https://localhost:8080/"
        },
        "id": "yA8If62Jtcnh",
        "outputId": "9e84d593-cea7-44bf-8951-44129a10adeb"
      },
      "execution_count": null,
      "outputs": [
        {
          "output_type": "execute_result",
          "data": {
            "text/plain": [
              "0.050244686644566564"
            ]
          },
          "metadata": {},
          "execution_count": 11
        }
      ]
    },
    {
      "cell_type": "code",
      "source": [
        "treatment = binom.pmf(39, 31000, 0.00125)\n",
        "control = binom.pmf(63, 31000, 0.00203)\n",
        "print(f'control :{control}', f'treatment :{treatment}')"
      ],
      "metadata": {
        "colab": {
          "base_uri": "https://localhost:8080/"
        },
        "id": "7smnUolUw7-j",
        "outputId": "cafed6d3-25fc-4990-adba-9674284d3dde"
      },
      "execution_count": null,
      "outputs": [
        {
          "output_type": "stream",
          "name": "stdout",
          "text": [
            "control :0.050244686644566564 treatment :0.06373430196761527\n"
          ]
        }
      ]
    },
    {
      "cell_type": "code",
      "source": [
        "from scipy.stats import fisher_exact\n",
        "\n",
        "data = [[39,63],[30961,30937]]\n",
        "odd_ratio, p_value = fisher_exact(data,'less')\n",
        "\n",
        "print(f'odd_ratio: {odd_ratio}',f'p-value: {p_value}')"
      ],
      "metadata": {
        "colab": {
          "base_uri": "https://localhost:8080/"
        },
        "id": "lGL42MEA0uEL",
        "outputId": "fe228abb-d480-4f15-cead-34799640531f"
      },
      "execution_count": null,
      "outputs": [
        {
          "output_type": "stream",
          "name": "stdout",
          "text": [
            "odd_ratio: 0.6185677526719483 p-value: 0.011094091844052023\n"
          ]
        }
      ]
    },
    {
      "cell_type": "markdown",
      "source": [
        "# Hubble's Constant\n",
        "In this exercise, we will investigate the correlation present in astronomical data observed by Edwin Hubble in the period surrounding 1930.\n",
        "1. Calculate mean\n",
        "2. Standard Deviation\n",
        "3. Covariance\n",
        "4. Hubble covariance"
      ],
      "metadata": {
        "id": "V7C-i6C4W6PQ"
      }
    },
    {
      "cell_type": "code",
      "source": [
        "print(\"## Solving Hubbles' constant ## \\n\")\n",
        "\n",
        "#given dataset\n",
        "Xs = np.array([0.0339, 0.0423, 0.213, 0.257, 0.273, 0.273, 0.450, 0.503, 0.503, \\\n",
        "0.637, 0.805, 0.904, 0.904, 0.910, 0.910, 1.02, 1.11, 1.11, 1.41, \\\n",
        "1.72, 2.03, 2.02, 2.02, 2.02])\n",
        "\n",
        "Ys = np.array([-19.3, 30.4, 38.7, 5.52, -33.1, -77.3, 398.0, 406.0, 436.0, 320.0, 373.0, \\\n",
        "93.9, 210.0, 423.0, 594.0, 829.0, 718.0, 561.0, 608.0, 1.04E3, 1.10E3, \\\n",
        "840.0, 801.0, 519.0])\n",
        "\n",
        "N = 24\n",
        "\n",
        "print(\"1- Xs Mean: \" + str(Xs.mean()) + \" ,Ys Mean: \" + str(Ys.mean()) + \"\\n\")\n",
        "\n",
        "\n",
        "# Numpy's std calculates the POPULATION standard Deviation, and the exercise asked for the Sample std\n",
        "from statistics import stdev, pstdev\n",
        "\n",
        "print(\"1- Xs Stdev: \" + str(stdev(Xs)) + \" ,Ys Stdev: \" + str(stdev(Ys)) + \"\\n\")\n",
        "\n",
        "#Covariance\n",
        "print(\"Numpy Covariance: \" + str(np.cov(Xs,Ys)) + \"\\n\" ) # Population covariance, with numpy\n",
        "\n",
        "  #Function for covariance:\n",
        "def covariance(x, y):\n",
        "    # Finding the mean of the series x and y\n",
        "    mean_x = sum(x)/float(len(x))\n",
        "    mean_y = sum(y)/float(len(y))\n",
        "    # Subtracting mean from the individual elements\n",
        "    sub_x = [i - mean_x for i in x]\n",
        "    sub_y = [i - mean_y for i in y]\n",
        "    numerator = sum([sub_x[i]*sub_y[i] for i in range(len(sub_x))])\n",
        "    denominator = len(x)-1\n",
        "    cov = numerator/denominator\n",
        "    return cov\n",
        "\n",
        "print(\"Sample Covariance: \" + str(covariance(Xs,Ys)) + \"\\n\")\n",
        "\n",
        "# Happens the same with correlation, the way numpy calculates it is different\n",
        "def correlation(x, y):\n",
        "    # Finding the mean of the series x and y\n",
        "    mean_x = sum(x)/float(len(x))\n",
        "    mean_y = sum(y)/float(len(y))\n",
        "    # Subtracting mean from the individual elements\n",
        "    sub_x = [i-mean_x for i in x]\n",
        "    sub_y = [i-mean_y for i in y]\n",
        "    # covariance for x and y\n",
        "    numerator = sum([sub_x[i]*sub_y[i] for i in range(len(sub_x))])\n",
        "    # Standard Deviation of x and y\n",
        "    std_deviation_x = sum([sub_x[i]**2.0 for i in range(len(sub_x))])\n",
        "    std_deviation_y = sum([sub_y[i]**2.0 for i in range(len(sub_y))])\n",
        "    # squaring by 0.5 to find the square root\n",
        "    denominator = (std_deviation_x*std_deviation_y)**0.5 # short but equivalent to (std_deviation_x**0.5) * (std_deviation_y**0.5)\n",
        "    cor = numerator/denominator\n",
        "    return cor\n",
        "\n",
        "print(\"Sample Correlation: \" + str(correlation(Xs,Ys)) + \"\\n\")\n",
        "\n",
        "\n",
        "# Linear Regression # \n",
        "from scipy.stats import linregress\n",
        "\n",
        "print(\"Linear Regression Statistics: \" + str(linregress(Xs, Ys)) + \"\\n\")"
      ],
      "metadata": {
        "colab": {
          "base_uri": "https://localhost:8080/"
        },
        "id": "cg8ibIbQW2Wd",
        "outputId": "2e933a0f-553e-4209-f182-ded3bcf08f31"
      },
      "execution_count": 25,
      "outputs": [
        {
          "output_type": "stream",
          "name": "stdout",
          "text": [
            "## Solving Hubbles' constant ## \n",
            "\n",
            "1- Xs Mean: 0.9199250000000001 ,Ys Mean: 425.6175\n",
            "\n",
            "1- Xs Stdev: 0.6533948258734996 ,Ys Stdev: 348.73365749772296\n",
            "\n",
            "Numpy Covariance: [[4.26924798e-01 1.91207065e+02]\n",
            " [1.91207065e+02 1.21615164e+05]]\n",
            "\n",
            "Sample Covariance: 191.20706528260868\n",
            "\n",
            "Sample Correlation: 0.8391399162310663\n",
            "\n",
            "Linear Regression Statistics: LinregressResult(slope=447.87059914099837, intercept=13.610139085217043, rvalue=0.8391399162310663, pvalue=2.994565602899751e-07, stderr=61.89254821132255, intercept_stderr=69.34723133511908)\n",
            "\n"
          ]
        }
      ]
    },
    {
      "cell_type": "markdown",
      "source": [
        "# Noise Transformation\n",
        "\n",
        "Each data point is one planet in our solar system (with the addition of the planetoid Pluto, which will be henceforth referred to as a planet for simplicity).\n",
        "\n",
        "The X\n",
        " values are the semi-major axis of each planet's orbit around the Sun. A planetary orbit is elliptical in shape, and the semi-major axis is the longer of the two axes that define the ellipse. When the ellipse is nearly circular (which is true for most planets), the semi-major axis is approximately the radius of said circle. The X\n",
        " values are measured in units of Astronomical Units (AU). One AU is very close to the average distance between the Sun and Earth (defined as 149597870700 meters), hence, the Earth's semi-major axis is essentially 1 AU due to its very circular orbit.\n",
        "\n",
        "The Y\n",
        " values are the orbital period of the planet, measured in Earth years (365.25 days), so Earth also has a Y=1\n",
        " year."
      ],
      "metadata": {
        "id": "doo2UvMafkBA"
      }
    },
    {
      "cell_type": "code",
      "source": [
        "Xs = np.array([ 0.387, 0.723, 1.00, 1.52, 5.20, 9.54, 19.2, 30.1, 39.5 ])\n",
        "\n",
        "Ys = np.array([ 0.241, 0.615, 1.00, 1.88, 11.9, 29.5, 84.0, 165.0, 248 ])\n",
        "\n",
        "N = 9\n",
        "\n",
        "import matplotlib.pyplot as plt\n",
        "\n",
        "plt.plot(Xs, Ys)\n",
        "\n",
        "print(\"Sample Correlation: \" + str(correlation(Xs,Ys)) + \"\\n\")\n",
        "\n",
        "import seaborn as sns\n",
        "\n",
        "sns.residplot(x=Xs, y=Ys)\n",
        "\n",
        "print(\"## This residuals vs normal relationship shows that this is a FALSE high correlation! ## \\n\")\n",
        "\n",
        "# Plotting a Q-Q plot as instructed in the exercise\n",
        "\n",
        "import statsmodels.api as sm\n",
        "sm.qqplot(Xs, line='s')\n",
        "plt.title(\"X distribution\")\n",
        "plt.show()\n",
        "\n",
        "sm.qqplot(Ys, line='s')\n",
        "plt.title(\"Y distribution\")\n",
        "plt.show()\n",
        "\n",
        "\n",
        "#getting the normalized version, applying log\n",
        "Xs_log = np.log(Xs)\n",
        "Ys_log = np.log(Ys)\n",
        "\n",
        "print(\"\\n Linear Regression Statistics: \" + str(linregress(Xs_log, Ys_log)) + \"\\n\")"
      ],
      "metadata": {
        "colab": {
          "base_uri": "https://localhost:8080/",
          "height": 962
        },
        "id": "bLCsE8kqfgYt",
        "outputId": "bf00960e-648d-4782-f7d8-a3ae34b06215"
      },
      "execution_count": 38,
      "outputs": [
        {
          "output_type": "stream",
          "name": "stdout",
          "text": [
            "Sample Correlation: 0.9888323018726732\n",
            "\n",
            "## This residuals vs normal relationship shows that this is a FALSE high correlation! ## \n",
            "\n"
          ]
        },
        {
          "output_type": "display_data",
          "data": {
            "text/plain": [
              "<Figure size 432x288 with 1 Axes>"
            ],
            "image/png": "[encoded data removed]"
          },
          "metadata": {
            "needs_background": "light"
          }
        },
        {
          "output_type": "display_data",
          "data": {
            "text/plain": [
              "<Figure size 432x288 with 1 Axes>"
            ],
            "image/png": "[encoded data removed]"
          },
          "metadata": {
            "needs_background": "light"
          }
        },
        {
          "output_type": "display_data",
          "data": {
            "text/plain": [
              "<Figure size 432x288 with 1 Axes>"
            ],
            "image/png": "[encoded data removed]"
          },
          "metadata": {
            "needs_background": "light"
          }
        },
        {
          "output_type": "stream",
          "name": "stdout",
          "text": [
            "\n",
            " Linear Regression Statistics: LinregressResult(slope=1.4995325773381893, intercept=0.0013370447605036695, rvalue=0.9999998085102114, pvalue=1.0116880823394698e-23, stderr=0.00035074763815870957, intercept_stderr=0.000765102967688877)\n",
            "\n"
          ]
        }
      ]
    }
  ]
}